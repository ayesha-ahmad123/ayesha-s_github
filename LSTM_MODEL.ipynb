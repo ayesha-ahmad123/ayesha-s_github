{
  "cells": [
    {
      "cell_type": "code",
      "execution_count": 1,
      "metadata": {
        "id": "b5acd490"
      },
      "outputs": [],
      "source": [
        "import numpy as np\n",
        "import matplotlib.pyplot as plt\n",
        "import pandas as pd\n",
        "from sklearn.preprocessing import MinMaxScaler\n",
        "from keras.models import Sequential\n",
        "from keras.layers import Dense,LSTM,Dropout"
      ],
      "id": "b5acd490"
    },
    {
      "cell_type": "code",
      "execution_count": 2,
      "metadata": {
        "colab": {
          "base_uri": "https://localhost:8080/"
        },
        "id": "7cf07fb7",
        "outputId": "ff4c8606-1430-427a-840c-1c1585202506"
      },
      "outputs": [
        {
          "output_type": "stream",
          "name": "stdout",
          "text": [
            "                  Datetime  PJME_MW\n",
            "0      2002-12-31 01:00:00  26498.0\n",
            "1      2002-12-31 02:00:00  25147.0\n",
            "2      2002-12-31 03:00:00  24574.0\n",
            "3      2002-12-31 04:00:00  24393.0\n",
            "4      2002-12-31 05:00:00  24860.0\n",
            "...                    ...      ...\n",
            "37444  2006-09-23 14:00:00  31421.0\n",
            "37445  2006-09-23 15:00:00  31357.0\n",
            "37446  2006-09-23 16:00:00  31540.0\n",
            "37447  2006-09-23 17:00:00  31856.0\n",
            "37448      2006-09-23 18:0      NaN\n",
            "\n",
            "[37449 rows x 2 columns]\n"
          ]
        }
      ],
      "source": [
        "dataset_train = pd.read_csv('/content/PJME_hourly (1).csv')\n",
        "training_set = dataset_train.iloc[:,1:2].values   #Note the index range in dataset_train.iloc[:, 1: 2].values because we need to make it NumPy array, not a single vector nor a dataframe for training.\n",
        "print(dataset_train)"
      ],
      "id": "7cf07fb7"
    },
    {
      "cell_type": "code",
      "execution_count": 3,
      "metadata": {
        "id": "26230b30",
        "colab": {
          "base_uri": "https://localhost:8080/"
        },
        "outputId": "a28b6f3a-69ad-41e3-959a-7f57c09bc656"
      },
      "outputs": [
        {
          "output_type": "stream",
          "name": "stdout",
          "text": [
            "[[0.1822592 ]\n",
            " [0.14830082]\n",
            " [0.13389805]\n",
            " ...\n",
            " [0.30899357]\n",
            " [0.31693646]\n",
            " [       nan]]\n"
          ]
        }
      ],
      "source": [
        "sc = MinMaxScaler(feature_range = (0,1))\n",
        "training_set_scaled = sc.fit_transform(training_set)\n",
        "print(training_set_scaled)"
      ],
      "id": "26230b30"
    },
    {
      "cell_type": "code",
      "execution_count": 4,
      "metadata": {
        "id": "13774bed"
      },
      "outputs": [],
      "source": [
        "x_train = []\n",
        "y_train = []"
      ],
      "id": "13774bed"
    },
    {
      "cell_type": "code",
      "execution_count": 5,
      "metadata": {
        "colab": {
          "base_uri": "https://localhost:8080/"
        },
        "id": "58e1be24",
        "outputId": "9d30c53b-bd0a-4463-85e1-86077a16c16e"
      },
      "outputs": [
        {
          "output_type": "stream",
          "name": "stdout",
          "text": [
            "[0.1822592  0.14830082 0.13389805 0.12934848 0.14108687 0.17532174\n",
            " 0.23765836 0.28782928 0.31552886 0.32957973 0.32988136 0.3180927\n",
            " 0.29858737 0.27953449 0.25932536 0.24761211 0.27802634 0.37125478\n",
            " 0.37572894 0.34041323 0.30386588 0.2674442  0.23215363 0.19507842\n",
            " 0.20809873 0.18482304 0.17579932 0.17509552 0.19163483 0.23708023\n",
            " 0.30821436 0.362407   0.3865373  0.38729137 0.37824251 0.36356324\n",
            " 0.34787854 0.33734667 0.33010758 0.3327217  0.37273778 0.44570682\n",
            " 0.44889905 0.43346571 0.40772672 0.36941987 0.31097929 0.23924191\n",
            " 0.19698874 0.16561934 0.15264931 0.14827569 0.14817515 0.16323145\n",
            " 0.18346571 0.2070179  0.2329077  0.25067866 0.25382063 0.24989946]\n",
            "1975\n"
          ]
        }
      ],
      "source": [
        "for i in range(60,2035):\n",
        "    x_train.append(training_set_scaled[i-60:i, 0])\n",
        "    #y_train.append(training_set_scaled[i,0])\n",
        "    y_train.append(training_set_scaled[i,0])\n",
        "x_train, y_train = np.array(x_train), np.array(y_train)\n",
        "print(x_train[0])                                                                               \n",
        "x_train = np.reshape(x_train, (x_train.shape[0],x_train.shape[1],1))\n",
        "print(x_train.shape[0])\n"
      ],
      "id": "58e1be24"
    },
    {
      "cell_type": "code",
      "execution_count": 6,
      "metadata": {
        "colab": {
          "base_uri": "https://localhost:8080/"
        },
        "id": "da3ca976",
        "outputId": "e294742a-1085-4807-aca5-b85dd251c7c0"
      },
      "outputs": [
        {
          "output_type": "stream",
          "name": "stdout",
          "text": [
            "[[[0.1822592 ]\n",
            "  [0.14830082]\n",
            "  [0.13389805]\n",
            "  ...\n",
            "  [0.25067866]\n",
            "  [0.25382063]\n",
            "  [0.24989946]]\n",
            "\n",
            " [[0.14830082]\n",
            "  [0.13389805]\n",
            "  [0.12934848]\n",
            "  ...\n",
            "  [0.25382063]\n",
            "  [0.24989946]\n",
            "  [0.2465564 ]]\n",
            "\n",
            " [[0.13389805]\n",
            "  [0.12934848]\n",
            "  [0.14108687]\n",
            "  ...\n",
            "  [0.24989946]\n",
            "  [0.2465564 ]\n",
            "  [0.23730645]]\n",
            "\n",
            " ...\n",
            "\n",
            " [[0.10657551]\n",
            "  [0.20415242]\n",
            "  [0.27596521]\n",
            "  ...\n",
            "  [0.29257993]\n",
            "  [0.28848281]\n",
            "  [0.29019204]]\n",
            "\n",
            " [[0.20415242]\n",
            "  [0.27596521]\n",
            "  [0.29602353]\n",
            "  ...\n",
            "  [0.28848281]\n",
            "  [0.29019204]\n",
            "  [0.28481299]]\n",
            "\n",
            " [[0.27596521]\n",
            "  [0.29602353]\n",
            "  [0.31027549]\n",
            "  ...\n",
            "  [0.29019204]\n",
            "  [0.28481299]\n",
            "  [0.29841142]]]\n"
          ]
        }
      ],
      "source": [
        "print(x_train)"
      ],
      "id": "da3ca976"
    },
    {
      "cell_type": "code",
      "execution_count": 7,
      "metadata": {
        "colab": {
          "base_uri": "https://localhost:8080/"
        },
        "id": "8cfc988e",
        "outputId": "c744ed9f-8e05-41f6-bf48-8da561ebea28"
      },
      "outputs": [
        {
          "output_type": "stream",
          "name": "stdout",
          "text": [
            "[0.2465564  0.23730645 0.22715162 ... 0.28481299 0.29841142 0.33211844]\n"
          ]
        }
      ],
      "source": [
        "print(y_train)"
      ],
      "id": "8cfc988e"
    },
    {
      "cell_type": "code",
      "execution_count": null,
      "metadata": {
        "colab": {
          "base_uri": "https://localhost:8080/"
        },
        "id": "23028351",
        "outputId": "13929246-c3c1-4e12-cd0b-694b753b333a"
      },
      "outputs": [
        {
          "output_type": "stream",
          "name": "stdout",
          "text": [
            "Epoch 1/650\n",
            "62/62 [==============================] - 18s 151ms/step - loss: 0.0158\n",
            "Epoch 2/650\n",
            "62/62 [==============================] - 9s 149ms/step - loss: 0.0107\n",
            "Epoch 3/650\n",
            "62/62 [==============================] - 10s 162ms/step - loss: 0.0073\n",
            "Epoch 4/650\n",
            "62/62 [==============================] - 9s 150ms/step - loss: 0.0060\n",
            "Epoch 5/650\n",
            "62/62 [==============================] - 9s 147ms/step - loss: 0.0052\n",
            "Epoch 6/650\n",
            "62/62 [==============================] - 10s 155ms/step - loss: 0.0046\n",
            "Epoch 7/650\n",
            "62/62 [==============================] - 9s 150ms/step - loss: 0.0043\n",
            "Epoch 8/650\n",
            "62/62 [==============================] - 9s 149ms/step - loss: 0.0040\n",
            "Epoch 9/650\n",
            "62/62 [==============================] - 9s 149ms/step - loss: 0.0040\n",
            "Epoch 10/650\n",
            "62/62 [==============================] - 9s 151ms/step - loss: 0.0037\n",
            "Epoch 11/650\n",
            "62/62 [==============================] - 9s 149ms/step - loss: 0.0040\n",
            "Epoch 12/650\n",
            "16/62 [======>.......................] - ETA: 6s - loss: 0.0038"
          ]
        }
      ],
      "source": [
        "model = Sequential()                                  \n",
        "model.add(LSTM(units = 128, return_sequences=True,input_shape = (x_train.shape[1],1)))\n",
        "model.add(Dropout(0.2))\n",
        "model.add(LSTM(units = 64, return_sequences=True))\n",
        "model.add(Dropout(0.2))\n",
        "model.add(LSTM(units = 32, return_sequences=True))     \n",
        "model.add(Dropout(0.2))\n",
        "model.add(LSTM(units = 32))\n",
        "model.add(Dropout(0.2))\n",
        "model.add(Dense(units = 1))\n",
        "model.compile(optimizer = 'adam', loss = 'mean_squared_error')\n",
        "model.fit(x_train,y_train,epochs = 650,batch_size = 32)                                            "
      ],
      "id": "23028351"
    }
  ],
  "metadata": {
    "colab": {
      "name": "LSTM MODEL.ipynb",
      "provenance": [],
      "collapsed_sections": []
    },
    "kernelspec": {
      "display_name": "Python 3 (ipykernel)",
      "language": "python",
      "name": "python3"
    },
    "language_info": {
      "codemirror_mode": {
        "name": "ipython",
        "version": 3
      },
      "file_extension": ".py",
      "mimetype": "text/x-python",
      "name": "python",
      "nbconvert_exporter": "python",
      "pygments_lexer": "ipython3",
      "version": "3.9.7"
    }
  },
  "nbformat": 4,
  "nbformat_minor": 5
}